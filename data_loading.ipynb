{
  "nbformat": 4,
  "nbformat_minor": 0,
  "metadata": {
    "colab": {
      "provenance": [],
      "include_colab_link": true
    },
    "kernelspec": {
      "name": "python3",
      "display_name": "Python 3"
    },
    "language_info": {
      "name": "python"
    }
  },
  "cells": [
    {
      "cell_type": "markdown",
      "metadata": {
        "id": "view-in-github",
        "colab_type": "text"
      },
      "source": [
        "<a href=\"https://colab.research.google.com/github/bealowman/music-reconstruction-working/blob/main/data_loading.ipynb\" target=\"_parent\"><img src=\"https://colab.research.google.com/assets/colab-badge.svg\" alt=\"Open In Colab\"/></a>"
      ]
    },
    {
      "cell_type": "code",
      "execution_count": null,
      "metadata": {
        "id": "CWlK9GnItesb"
      },
      "outputs": [],
      "source": [
        "import numpy as np\n",
        "from google.colab import files\n",
        "\n",
        "uploaded = files.upload()\n",
        "\n",
        "hfa = np.load('HFA.npy')\n",
        "spectrogram = np.load('spectrogram.npy')\n",
        "print(hfa.shape, spectrogram.shape)"
      ]
    },
    {
      "cell_type": "code",
      "source": [
        "\n",
        "def create_lagged_spectrogram(spectrogram, n_lags):\n",
        "    lagged_features, targets = [], []\n",
        "    for t in range(n_lags, len(spectrogram)):\n",
        "        feat = spectrogram[t-n_lags:t].flatten()\n",
        "        lagged_features.append(feat)\n",
        "        targets.append(hfa[t])\n",
        "    return np.array(lagged_features), np.array(targets)\n",
        "\n",
        "n_lags = 75\n",
        "X_lagged, y = create_lagged_spectrogram(spectrogram, n_lags)\n",
        "print(X_lagged.shape, y.shape)\n",
        "\n",
        "#train here\n",
        "\n",
        "#Fit Linear Regression Encoding Model\n",
        "\n",
        "#Visualize STRF\n",
        "\n",
        "#\n"
      ],
      "metadata": {
        "id": "2JDGjfRtPi90"
      },
      "execution_count": null,
      "outputs": []
    }
  ]
}